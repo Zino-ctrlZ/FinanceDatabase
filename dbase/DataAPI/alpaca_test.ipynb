{
 "cells": [
  {
   "cell_type": "code",
   "execution_count": 3,
   "id": "576f3a15",
   "metadata": {},
   "outputs": [
    {
     "name": "stdout",
     "output_type": "stream",
     "text": [
      "The autoreload extension is already loaded. To reload it, use:\n",
      "  %reload_ext autoreload\n"
     ]
    }
   ],
   "source": [
    "%load_ext autoreload\n",
    "%autoreload 2\n",
    "import os\n",
    "from dotenv import load_dotenv\n",
    "load_dotenv()\n",
    "import sys\n",
    "sys.path.append(\n",
    "    os.environ['WORK_DIR']) # type: ignore\n",
    "\n"
   ]
  },
  {
   "cell_type": "code",
   "execution_count": 22,
   "id": "efba3d32",
   "metadata": {},
   "outputs": [
    {
     "name": "stdout",
     "output_type": "stream",
     "text": [
      "1214\n",
      "100\n"
     ]
    }
   ],
   "source": [
    "from Alpaca import get_option_chain_all, get_option_chain\n",
    "\n",
    "chain_all = get_option_chain_all('AAPL', 'call')\n",
    "chain = get_option_chain('AAPL', 'call')\n",
    "\n",
    "print(len(chain_all))\n",
    "print(len(chain.get('snapshots', [])))"
   ]
  },
  {
   "cell_type": "code",
   "execution_count": 26,
   "id": "602dc944",
   "metadata": {},
   "outputs": [
    {
     "name": "stdout",
     "output_type": "stream",
     "text": [
      "55\n",
      "55\n"
     ]
    }
   ],
   "source": [
    "from Alpaca import get_option_contracts_all, get_option_contracts\n",
    "\n",
    "contracts_all = get_option_contracts_all('AAPL', 'call')\n",
    "contracts = get_option_contracts('AAPL', 'call')\n",
    "\n",
    "print(len(contracts_all))\n",
    "print(len(contracts.get('option_contracts', [])))"
   ]
  },
  {
   "cell_type": "code",
   "execution_count": 24,
   "id": "2d3e5e9b",
   "metadata": {},
   "outputs": [
    {
     "name": "stdout",
     "output_type": "stream",
     "text": [
      "{'id': 'e0bfda5e-00ec-469d-856d-64ceede380b6', 'symbol': 'AAPL250718C00090000', 'name': 'AAPL Jul 18 2025 90 Call', 'status': 'active', 'tradable': True, 'expiration_date': '2025-07-18', 'root_symbol': 'AAPL', 'underlying_symbol': 'AAPL', 'underlying_asset_id': 'b0b6dd9d-8b9b-48a9-ba46-b9d54906e415', 'type': 'call', 'style': 'american', 'strike_price': '90', 'multiplier': '100', 'size': '100', 'open_interest': '405', 'open_interest_date': '2025-07-14', 'close_price': '120.8', 'close_price_date': '2025-07-15', 'deliverables': [{'type': 'equity', 'symbol': 'AAPL', 'asset_id': 'b0b6dd9d-8b9b-48a9-ba46-b9d54906e415', 'amount': '100', 'allocation_percentage': '100', 'settlement_type': 'T+1', 'settlement_method': 'CCC', 'delayed_settlement': False}], 'ppind': True}\n"
     ]
    }
   ],
   "source": [
    "from Alpaca import get_option_by_id_or_symbol\n",
    "\n",
    "option = get_option_by_id_or_symbol('AAPL250718C00090000')\n",
    "print(option)"
   ]
  },
  {
   "cell_type": "code",
   "execution_count": 25,
   "id": "a53444f2",
   "metadata": {},
   "outputs": [
    {
     "name": "stdout",
     "output_type": "stream",
     "text": [
      "[]\n"
     ]
    }
   ],
   "source": [
    "from Alpaca import get_orders\n",
    "\n",
    "orders = get_orders('all')\n",
    "print(orders)"
   ]
  }
 ],
 "metadata": {
  "kernelspec": {
   "display_name": "finDBenv",
   "language": "python",
   "name": "python3"
  },
  "language_info": {
   "codemirror_mode": {
    "name": "ipython",
    "version": 3
   },
   "file_extension": ".py",
   "mimetype": "text/x-python",
   "name": "python",
   "nbconvert_exporter": "python",
   "pygments_lexer": "ipython3",
   "version": "3.10.11"
  }
 },
 "nbformat": 4,
 "nbformat_minor": 5
}
