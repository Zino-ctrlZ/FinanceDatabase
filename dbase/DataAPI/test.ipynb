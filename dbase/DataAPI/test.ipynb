{
 "cells": [
  {
   "cell_type": "code",
   "execution_count": 1,
   "metadata": {},
   "outputs": [],
   "source": [
    "import os\n",
    "from dotenv import load_dotenv\n",
    "load_dotenv()\n",
    "import sys\n",
    "sys.path.append(\n",
    "    os.environ.get('WORK_DIR')) # type: ignore\n",
    "from ThetaData import generate_request_string\n",
    "from ThetaData import request_from_proxy\n",
    "%load_ext autoreload\n",
    "%autoreload 2"
   ]
  },
  {
   "cell_type": "code",
   "execution_count": 3,
   "metadata": {},
   "outputs": [
    {
     "data": {
      "text/plain": [
       "'http://127.0.0.1:25510/v2/hist/option/ohlc?end_date=20231103&root=AAPL&use_csv=true&exp=20231103&ivl=3600000&right=C&start_date=20231103&strike=170000'"
      ]
     },
     "execution_count": 3,
     "metadata": {},
     "output_type": "execute_result"
    }
   ],
   "source": [
    "# Create dummy data for the variables\n",
    "end_date = \"20231103\"\n",
    "symbol = \"AAPL\"\n",
    "exp = \"20231103\"\n",
    "right = \"C\"\n",
    "start_date = \"20231103\"\n",
    "strike = \"170000\"\n",
    "url  = \"http://127.0.0.1:25510/v2/hist/option/ohlc\"\n",
    "querystring = {\"end_date\": end_date, \"root\": symbol, \"use_csv\": \"true\", \"exp\": exp, \"ivl\": 3600000, \"right\": right, \"start_date\": start_date, \"strike\": strike}\n",
    "\n",
    "request_string = generate_request_string(url, querystring)\n",
    "request_string"
   ]
  },
  {
   "cell_type": "code",
   "execution_count": null,
   "metadata": {},
   "outputs": [
    {
     "data": {
      "text/plain": [
       "'{\"data\":\"ms_of_day,open,high,low,close,volume,count,date\\\\r\\\\n34200000,4.4800,7.0500,3.6000,4.6500,3093,478,20231103\\\\r\\\\n37800000,4.9300,5.8600,4.8800,4.9000,957,145,20231103\\\\r\\\\n41400000,5.0300,6.4500,4.8700,6.4400,284,79,20231103\\\\r\\\\n45000000,6.4000,6.4000,5.7500,5.7600,196,65,20231103\\\\r\\\\n48600000,5.8000,5.8600,5.0500,5.7000,2062,90,20231103\\\\r\\\\n52200000,5.7800,6.4300,5.7000,5.9300,429,97,20231103\\\\r\\\\n\",\"headers\":{\"Access-control-allow-headers\":\"*\",\"Access-control-allow-origin\":\"https://http-docs.thetadata.us\",\"Access-control-request-headers\":\"*\",\"Content-disposition\":\"attachment; filename=OHLC.O-AAPL-20231103-170000-C.20231103-20231103.3600000.csv;\",\"Content-length\":\"377\",\"Content-type\":\"text/csv\",\"Date\":\"Tue, 26 Nov 2024 01:57:18 GMT\",\"Latency\":\"35\",\"Next-page\":\"null\"},\"status\":200}\\n'"
      ]
     },
     "execution_count": 14,
     "metadata": {},
     "output_type": "execute_result"
    }
   ],
   "source": [
    "import requests\n",
    "import json\n",
    "url = \"http://54.225.55.109:5500/thetadata\"\n",
    "payload = json.dumps({\n",
    "  \"url\": request_string,\n",
    "  \"method\": \"GET\"\n",
    "})\n",
    "headers = {\n",
    "  'Content-Type': 'application/json',\n",
    "}\n",
    "response = requests.request(\"POST\", url, headers=headers, data=payload)\n",
    "response.text"
   ]
  },
  {
   "cell_type": "code",
   "execution_count": 6,
   "metadata": {},
   "outputs": [
    {
     "data": {
      "text/plain": [
       "<Response [200]>"
      ]
     },
     "execution_count": 6,
     "metadata": {},
     "output_type": "execute_result"
    }
   ],
   "source": [
    "url  = \"http://127.0.0.1:25510/v2/hist/option/ohlc\"\n",
    "instanceUrl = \"http://54.225.55.109:5500/thetadata\"\n",
    "queryParam = {\"end_date\": end_date, \"root\": symbol, \"use_csv\": \"true\", \"exp\": exp, \"ivl\": 3600000, \"right\": right, \"start_date\": start_date, \"strike\": strike}\n",
    "proxy_response = request_from_proxy(url, queryParam, instanceUrl)\n",
    "proxy_response"
   ]
  },
  {
   "cell_type": "code",
   "execution_count": 11,
   "metadata": {},
   "outputs": [
    {
     "data": {
      "text/html": [
       "<div>\n",
       "<style scoped>\n",
       "    .dataframe tbody tr th:only-of-type {\n",
       "        vertical-align: middle;\n",
       "    }\n",
       "\n",
       "    .dataframe tbody tr th {\n",
       "        vertical-align: top;\n",
       "    }\n",
       "\n",
       "    .dataframe thead th {\n",
       "        text-align: right;\n",
       "    }\n",
       "</style>\n",
       "<table border=\"1\" class=\"dataframe\">\n",
       "  <thead>\n",
       "    <tr style=\"text-align: right;\">\n",
       "      <th></th>\n",
       "      <th>ms_of_day</th>\n",
       "      <th>open</th>\n",
       "      <th>high</th>\n",
       "      <th>low</th>\n",
       "      <th>close</th>\n",
       "      <th>volume</th>\n",
       "      <th>count</th>\n",
       "      <th>date</th>\n",
       "    </tr>\n",
       "  </thead>\n",
       "  <tbody>\n",
       "    <tr>\n",
       "      <th>0</th>\n",
       "      <td>34200000</td>\n",
       "      <td>4.48</td>\n",
       "      <td>7.05</td>\n",
       "      <td>3.60</td>\n",
       "      <td>4.65</td>\n",
       "      <td>3093</td>\n",
       "      <td>478</td>\n",
       "      <td>20231103</td>\n",
       "    </tr>\n",
       "    <tr>\n",
       "      <th>1</th>\n",
       "      <td>37800000</td>\n",
       "      <td>4.93</td>\n",
       "      <td>5.86</td>\n",
       "      <td>4.88</td>\n",
       "      <td>4.90</td>\n",
       "      <td>957</td>\n",
       "      <td>145</td>\n",
       "      <td>20231103</td>\n",
       "    </tr>\n",
       "    <tr>\n",
       "      <th>2</th>\n",
       "      <td>41400000</td>\n",
       "      <td>5.03</td>\n",
       "      <td>6.45</td>\n",
       "      <td>4.87</td>\n",
       "      <td>6.44</td>\n",
       "      <td>284</td>\n",
       "      <td>79</td>\n",
       "      <td>20231103</td>\n",
       "    </tr>\n",
       "    <tr>\n",
       "      <th>3</th>\n",
       "      <td>45000000</td>\n",
       "      <td>6.40</td>\n",
       "      <td>6.40</td>\n",
       "      <td>5.75</td>\n",
       "      <td>5.76</td>\n",
       "      <td>196</td>\n",
       "      <td>65</td>\n",
       "      <td>20231103</td>\n",
       "    </tr>\n",
       "    <tr>\n",
       "      <th>4</th>\n",
       "      <td>48600000</td>\n",
       "      <td>5.80</td>\n",
       "      <td>5.86</td>\n",
       "      <td>5.05</td>\n",
       "      <td>5.70</td>\n",
       "      <td>2062</td>\n",
       "      <td>90</td>\n",
       "      <td>20231103</td>\n",
       "    </tr>\n",
       "    <tr>\n",
       "      <th>5</th>\n",
       "      <td>52200000</td>\n",
       "      <td>5.78</td>\n",
       "      <td>6.43</td>\n",
       "      <td>5.70</td>\n",
       "      <td>5.93</td>\n",
       "      <td>429</td>\n",
       "      <td>97</td>\n",
       "      <td>20231103</td>\n",
       "    </tr>\n",
       "  </tbody>\n",
       "</table>\n",
       "</div>"
      ],
      "text/plain": [
       "   ms_of_day  open  high   low  close  volume  count      date\n",
       "0   34200000  4.48  7.05  3.60   4.65    3093    478  20231103\n",
       "1   37800000  4.93  5.86  4.88   4.90     957    145  20231103\n",
       "2   41400000  5.03  6.45  4.87   6.44     284     79  20231103\n",
       "3   45000000  6.40  6.40  5.75   5.76     196     65  20231103\n",
       "4   48600000  5.80  5.86  5.05   5.70    2062     90  20231103\n",
       "5   52200000  5.78  6.43  5.70   5.93     429     97  20231103"
      ]
     },
     "execution_count": 11,
     "metadata": {},
     "output_type": "execute_result"
    }
   ],
   "source": [
    "import pandas as pd\n",
    "from io import StringIO\n",
    "data = pd.read_csv(StringIO(proxy_response.json()['data']))\n",
    "data"
   ]
  }
 ],
 "metadata": {
  "kernelspec": {
   "display_name": "finenv",
   "language": "python",
   "name": "python3"
  },
  "language_info": {
   "codemirror_mode": {
    "name": "ipython",
    "version": 3
   },
   "file_extension": ".py",
   "mimetype": "text/x-python",
   "name": "python",
   "nbconvert_exporter": "python",
   "pygments_lexer": "ipython3",
   "version": "3.10.11"
  }
 },
 "nbformat": 4,
 "nbformat_minor": 2
}
