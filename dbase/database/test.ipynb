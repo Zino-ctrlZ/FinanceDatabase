{
 "cells": [
  {
   "cell_type": "code",
   "execution_count": 17,
   "id": "3866a71b",
   "metadata": {},
   "outputs": [
    {
     "name": "stdout",
     "output_type": "stream",
     "text": [
      "The autoreload extension is already loaded. To reload it, use:\n",
      "  %reload_ext autoreload\n"
     ]
    }
   ],
   "source": [
    "%load_ext autoreload\n",
    "%autoreload 2\n",
    "import os\n",
    "from dotenv import load_dotenv\n",
    "load_dotenv()\n",
    "import sys\n",
    "sys.path.append(\n",
    "    os.environ['WORK_DIR']) # type: ignore"
   ]
  },
  {
   "cell_type": "code",
   "execution_count": 18,
   "id": "18200923",
   "metadata": {},
   "outputs": [
    {
     "data": {
      "text/plain": [
       "{'int': 'int',\n",
       " 'bigint': 'int',\n",
       " 'decimal': 'float',\n",
       " 'float': 'float',\n",
       " 'double': 'float',\n",
       " 'varchar': 'str',\n",
       " 'char': 'str',\n",
       " 'text': 'str',\n",
       " 'datetime': 'datetime.datetime',\n",
       " 'timestamp': 'datetime.datetime',\n",
       " 'date': 'datetime.date',\n",
       " 'json': 'dict',\n",
       " 'tinyint': 'bool'}"
      ]
     },
     "execution_count": 18,
     "metadata": {},
     "output_type": "execute_result"
    }
   ],
   "source": [
    "from SQLHelpers import dbs, mysql_to_python, get_engine, get_table_schema\n",
    "\n",
    "mysql_to_python"
   ]
  },
  {
   "cell_type": "code",
   "execution_count": 15,
   "id": "28b769a1",
   "metadata": {},
   "outputs": [
    {
     "data": {
      "text/plain": [
       "[{'COLUMN_NAME': 'analysis_date', 'DATA_TYPE': 'date', 'IS_NULLABLE': 'NO'},\n",
       " {'COLUMN_NAME': 'data', 'DATA_TYPE': 'json', 'IS_NULLABLE': 'YES'},\n",
       " {'COLUMN_NAME': 'event_type', 'DATA_TYPE': 'enum', 'IS_NULLABLE': 'NO'},\n",
       " {'COLUMN_NAME': 'executed_bool',\n",
       "  'DATA_TYPE': 'tinyint',\n",
       "  'IS_NULLABLE': 'YES'},\n",
       " {'COLUMN_NAME': 'execution_date', 'DATA_TYPE': 'date', 'IS_NULLABLE': 'NO'},\n",
       " {'COLUMN_NAME': 'position_change', 'DATA_TYPE': 'int', 'IS_NULLABLE': 'YES'},\n",
       " {'COLUMN_NAME': 'processed_date', 'DATA_TYPE': 'date', 'IS_NULLABLE': 'YES'},\n",
       " {'COLUMN_NAME': 'reason', 'DATA_TYPE': 'varchar', 'IS_NULLABLE': 'YES'},\n",
       " {'COLUMN_NAME': 'signal_id', 'DATA_TYPE': 'varchar', 'IS_NULLABLE': 'NO'},\n",
       " {'COLUMN_NAME': 'strategy_name', 'DATA_TYPE': 'varchar', 'IS_NULLABLE': 'NO'},\n",
       " {'COLUMN_NAME': 'tick', 'DATA_TYPE': 'varchar', 'IS_NULLABLE': 'NO'},\n",
       " {'COLUMN_NAME': 'trade_id', 'DATA_TYPE': 'varchar', 'IS_NULLABLE': 'NO'}]"
      ]
     },
     "execution_count": 15,
     "metadata": {},
     "output_type": "execute_result"
    }
   ],
   "source": [
    "from sqlalchemy import text\n",
    "engine = get_engine('portfolio_data')\n",
    "engine.connect()\n",
    "query = text(\"\"\"\n",
    "        SELECT COLUMN_NAME, DATA_TYPE, IS_NULLABLE\n",
    "        FROM INFORMATION_SCHEMA.COLUMNS\n",
    "        WHERE TABLE_SCHEMA = 'portfolio_data' AND TABLE_NAME = 'events';\n",
    "    \"\"\")\n",
    "types = []\n",
    "try: \n",
    "    with engine.connect() as connection:\n",
    "        result = connection.execute(query)\n",
    "        types = [dict(row._mapping) for row in result]\n",
    "\n",
    "except Exception as err:\n",
    "    print(f\"Error: {err}\")\n",
    "\n",
    "types"
   ]
  },
  {
   "cell_type": "code",
   "execution_count": 20,
   "id": "4e8f973c",
   "metadata": {},
   "outputs": [
    {
     "name": "stdout",
     "output_type": "stream",
     "text": [
      "[get_engine] Creating engine for DB: portfolio_data, PID: 21322\n"
     ]
    },
    {
     "data": {
      "text/plain": [
       "[{'COLUMN_NAME': 'analysis_date', 'DATA_TYPE': 'date', 'IS_NULLABLE': 'NO'},\n",
       " {'COLUMN_NAME': 'data', 'DATA_TYPE': 'json', 'IS_NULLABLE': 'YES'},\n",
       " {'COLUMN_NAME': 'event_type', 'DATA_TYPE': 'enum', 'IS_NULLABLE': 'NO'},\n",
       " {'COLUMN_NAME': 'executed_bool',\n",
       "  'DATA_TYPE': 'tinyint',\n",
       "  'IS_NULLABLE': 'YES'},\n",
       " {'COLUMN_NAME': 'execution_date', 'DATA_TYPE': 'date', 'IS_NULLABLE': 'NO'},\n",
       " {'COLUMN_NAME': 'position_change', 'DATA_TYPE': 'int', 'IS_NULLABLE': 'YES'},\n",
       " {'COLUMN_NAME': 'processed_date', 'DATA_TYPE': 'date', 'IS_NULLABLE': 'YES'},\n",
       " {'COLUMN_NAME': 'reason', 'DATA_TYPE': 'varchar', 'IS_NULLABLE': 'YES'},\n",
       " {'COLUMN_NAME': 'signal_id', 'DATA_TYPE': 'varchar', 'IS_NULLABLE': 'NO'},\n",
       " {'COLUMN_NAME': 'strategy_name', 'DATA_TYPE': 'varchar', 'IS_NULLABLE': 'NO'},\n",
       " {'COLUMN_NAME': 'tick', 'DATA_TYPE': 'varchar', 'IS_NULLABLE': 'NO'},\n",
       " {'COLUMN_NAME': 'trade_id', 'DATA_TYPE': 'varchar', 'IS_NULLABLE': 'NO'}]"
      ]
     },
     "execution_count": 20,
     "metadata": {},
     "output_type": "execute_result"
    }
   ],
   "source": [
    "types = get_table_schema('portfolio_data', 'events')\n",
    "types\n"
   ]
  }
 ],
 "metadata": {
  "kernelspec": {
   "display_name": "finDBenv",
   "language": "python",
   "name": "python3"
  },
  "language_info": {
   "codemirror_mode": {
    "name": "ipython",
    "version": 3
   },
   "file_extension": ".py",
   "mimetype": "text/x-python",
   "name": "python",
   "nbconvert_exporter": "python",
   "pygments_lexer": "ipython3",
   "version": "3.10.11"
  }
 },
 "nbformat": 4,
 "nbformat_minor": 5
}
